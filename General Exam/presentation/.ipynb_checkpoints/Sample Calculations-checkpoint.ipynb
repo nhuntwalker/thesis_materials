{
 "metadata": {
  "name": "",
  "signature": "sha256:9af17abd233a14f707c89a160c044337dc614011cefec7225061fd0188b29d7d"
 },
 "nbformat": 3,
 "nbformat_minor": 0,
 "worksheets": [
  {
   "cells": [
    {
     "cell_type": "code",
     "collapsed": false,
     "input": [
      "import numpy as np\n",
      "import matplotlib.pyplot as plt\n",
      "%matplotlib inline"
     ],
     "language": "python",
     "metadata": {},
     "outputs": [],
     "prompt_number": 1
    },
    {
     "cell_type": "code",
     "collapsed": false,
     "input": [
      "#constants (cgs)\n",
      "mu = 0.5\n",
      "mH = 1.673E-24 #g\n",
      "Msol = 1.9891E33 #g\n",
      "Rsol = 6.955E10 #cm\n",
      "Lsol = 4E33 #ergs sec\n",
      "kB = 1.381E-16 #egs K-1\n",
      "G = 6.67E-8 #cgs"
     ],
     "language": "python",
     "metadata": {},
     "outputs": [],
     "prompt_number": 2
    },
    {
     "cell_type": "code",
     "collapsed": false,
     "input": [
      "def Tcentral(M,R):\n",
      "    M = M*Msol\n",
      "    R = R*Rsol\n",
      "    return M/R * (G*mu*mH/kB)\n",
      "\n",
      "def Rstellar(M,ind):\n",
      "    return M**((ind-1)/(ind+3))"
     ],
     "language": "python",
     "metadata": {},
     "outputs": [],
     "prompt_number": 3
    },
    {
     "cell_type": "code",
     "collapsed": false,
     "input": [
      "Tcentral(0.8,1)/1E6"
     ],
     "language": "python",
     "metadata": {},
     "outputs": [
      {
       "metadata": {},
       "output_type": "pyout",
       "prompt_number": 4,
       "text": [
        "9.243736789779753"
       ]
      }
     ],
     "prompt_number": 4
    },
    {
     "cell_type": "code",
     "collapsed": false,
     "input": [
      "Tcentral(0.8, Rstellar(0.8,4))/1E6"
     ],
     "language": "python",
     "metadata": {},
     "outputs": [
      {
       "metadata": {},
       "output_type": "pyout",
       "prompt_number": 5,
       "text": [
        "9.243736789779753"
       ]
      }
     ],
     "prompt_number": 5
    },
    {
     "cell_type": "code",
     "collapsed": false,
     "input": [
      "2**12"
     ],
     "language": "python",
     "metadata": {},
     "outputs": [
      {
       "metadata": {},
       "output_type": "pyout",
       "prompt_number": 6,
       "text": [
        "4096"
       ]
      }
     ],
     "prompt_number": 6
    },
    {
     "cell_type": "markdown",
     "metadata": {},
     "source": [
      "$\\propto$"
     ]
    },
    {
     "cell_type": "code",
     "collapsed": false,
     "input": [
      "def bbody(T, lam):\n",
      "    h = 6.626E-34 # mks\n",
      "    k = 1.381E-23 # mks\n",
      "    c = 3E8 #mks\n",
      "    \n",
      "    A = (2*h*c**2)/lam**5\n",
      "    B = (1/(np.exp((h*c/lam)/(k*T)) - 1))\n",
      "    return A*B"
     ],
     "language": "python",
     "metadata": {},
     "outputs": [],
     "prompt_number": 7
    },
    {
     "cell_type": "code",
     "collapsed": false,
     "input": [
      "waves = np.logspace(-8,-5,100) #nm\n",
      "temps = [3000., 6000., 10000., 20000.] #K\n",
      "profiles = [bbody(temp, waves) for temp in temps]"
     ],
     "language": "python",
     "metadata": {},
     "outputs": [],
     "prompt_number": 8
    },
    {
     "cell_type": "code",
     "collapsed": false,
     "input": [
      "fig = plt.figure(figsize=(6,3))\n",
      "fig.subplots_adjust(right=0.97, top=0.97, bottom=0.21, left=0.15)\n",
      "plt.subplot(111)\n",
      "plt.fill_between([400E-9,700E-9],1,3E16,color=\"gray\",alpha=0.15)\n",
      "plt.fill_between([400E-9,550E-9],1,3E16,color=\"b\",alpha=0.15)\n",
      "plt.fill_between([550E-9,700E-9],1,3E16,color=\"r\",alpha=0.15)\n",
      "plt.plot(waves, profiles[0], color=\"r\")\n",
      "# plt.plot(waves, profiles[1], color=\"y\")\n",
      "plt.plot(waves, profiles[2], color=\"b\")\n",
      "# plt.plot(waves, profiles[3], color=\"violet\")\n",
      "plt.yscale('log')\n",
      "plt.xscale('log')\n",
      "plt.ylabel(\"Brightness $B_\\lambda(T_{eff})$\", fontsize=18)\n",
      "plt.xlabel(\"Wavelength $\\lambda$ [m]\", fontsize=18)\n",
      "plt.ylim(1E8,3E15)\n",
      "plt.xlim(1E-7, 10000E-9)\n",
      "plt.legend((\"3,000K BBody\", \"10,000K BBody\") )\n",
      "plt.savefig(\"bbodies.png\")\n",
      "plt.show()"
     ],
     "language": "python",
     "metadata": {},
     "outputs": [
      {
       "metadata": {},
       "output_type": "display_data",
       "png": "[encoded data removed]",
       "text": [
        "<matplotlib.figure.Figure at 0x10610f8d0>"
       ]
      }
     ],
     "prompt_number": 9
    },
    {
     "cell_type": "code",
     "collapsed": false,
     "input": [
      "def luminosity(r, T):\n",
      "    R = r*Rsol\n",
      "    sig = 5.670373E-5 #cgs\n",
      "    return 4*np.pi*R**2*sig*T**4\n",
      "    "
     ],
     "language": "python",
     "metadata": {},
     "outputs": [],
     "prompt_number": 10
    },
    {
     "cell_type": "code",
     "collapsed": false,
     "input": [
      "luminosity(100, 4000.)/Lsol"
     ],
     "language": "python",
     "metadata": {},
     "outputs": [
      {
       "metadata": {},
       "output_type": "pyout",
       "prompt_number": 11,
       "text": [
        "2205.9503560432895"
       ]
      }
     ],
     "prompt_number": 11
    },
    {
     "cell_type": "markdown",
     "metadata": {},
     "source": [
      "$\\dot{M}$"
     ]
    },
    {
     "cell_type": "code",
     "collapsed": false,
     "input": [
      "1/6."
     ],
     "language": "python",
     "metadata": {},
     "outputs": [
      {
       "metadata": {},
       "output_type": "pyout",
       "prompt_number": 12,
       "text": [
        "0.16666666666666666"
       ]
      }
     ],
     "prompt_number": 12
    },
    {
     "cell_type": "code",
     "collapsed": false,
     "input": [
      "print 10**4.58, 10**4.4"
     ],
     "language": "python",
     "metadata": {},
     "outputs": [
      {
       "output_type": "stream",
       "stream": "stdout",
       "text": [
        "38018.9396321 25118.8643151\n"
       ]
      }
     ],
     "prompt_number": 13
    },
    {
     "cell_type": "code",
     "collapsed": false,
     "input": [
      "1E-14*10**10"
     ],
     "language": "python",
     "metadata": {},
     "outputs": [
      {
       "metadata": {},
       "output_type": "pyout",
       "prompt_number": 14,
       "text": [
        "0.0001"
       ]
      }
     ],
     "prompt_number": 14
    },
    {
     "cell_type": "code",
     "collapsed": false,
     "input": [
      "h = 6.63E-34 #J s\n",
      "c = 3E8 #m/s"
     ],
     "language": "python",
     "metadata": {},
     "outputs": [],
     "prompt_number": 15
    },
    {
     "cell_type": "code",
     "collapsed": false,
     "input": [
      "h*c/155E-9"
     ],
     "language": "python",
     "metadata": {},
     "outputs": [
      {
       "metadata": {},
       "output_type": "pyout",
       "prompt_number": 16,
       "text": [
        "1.2832258064516128e-18"
       ]
      }
     ],
     "prompt_number": 16
    },
    {
     "cell_type": "code",
     "collapsed": false,
     "input": [
      "mH = 1.672621777E-27 #kg\n",
      "mN = 1.674927351E-27 #kg\n",
      "mC = 6*mH + 6*mN"
     ],
     "language": "python",
     "metadata": {},
     "outputs": [],
     "prompt_number": 17
    },
    {
     "cell_type": "code",
     "collapsed": false,
     "input": [
      "p_phot = h/155E-9\n",
      "print 2*p_phot/mC"
     ],
     "language": "python",
     "metadata": {},
     "outputs": [
      {
       "output_type": "stream",
       "stream": "stdout",
       "text": [
        "0.425925474756\n"
       ]
      }
     ],
     "prompt_number": 18
    },
    {
     "cell_type": "code",
     "collapsed": false,
     "input": [
      "def line_driven_massloss(lumin):\n",
      "    ## returns mass loss in solar masses per year\n",
      "    L = lumin*Lsol\n",
      "    return 0.6*L/(3E10)**2 / Msol * np.pi*1E7"
     ],
     "language": "python",
     "metadata": {},
     "outputs": [],
     "prompt_number": 19
    },
    {
     "cell_type": "code",
     "collapsed": false,
     "input": [
      "0.6*1E4*Lsol/(3E10)**2 / Msol * np.pi*1E7 # calculating "
     ],
     "language": "python",
     "metadata": {},
     "outputs": [
      {
       "metadata": {},
       "output_type": "pyout",
       "prompt_number": 20,
       "text": [
        "4.2117442107348966e-10"
       ]
      }
     ],
     "prompt_number": 20
    },
    {
     "cell_type": "code",
     "collapsed": false,
     "input": [
      "line_driven_massloss(80000) * 3E6"
     ],
     "language": "python",
     "metadata": {},
     "outputs": [
      {
       "metadata": {},
       "output_type": "pyout",
       "prompt_number": 21,
       "text": [
        "0.010108186105763752"
       ]
      }
     ],
     "prompt_number": 21
    },
    {
     "cell_type": "code",
     "collapsed": false,
     "input": [
      "1/25., 10./25"
     ],
     "language": "python",
     "metadata": {},
     "outputs": [
      {
       "metadata": {},
       "output_type": "pyout",
       "prompt_number": 22,
       "text": [
        "(0.04, 0.4)"
       ]
      }
     ],
     "prompt_number": 22
    },
    {
     "cell_type": "code",
     "collapsed": false,
     "input": [
      "15**3.3"
     ],
     "language": "python",
     "metadata": {},
     "outputs": [
      {
       "metadata": {},
       "output_type": "pyout",
       "prompt_number": 23,
       "text": [
        "7605.033910343958"
       ]
      }
     ],
     "prompt_number": 23
    },
    {
     "cell_type": "code",
     "collapsed": false,
     "input": [
      "0.4/15"
     ],
     "language": "python",
     "metadata": {},
     "outputs": [
      {
       "metadata": {},
       "output_type": "pyout",
       "prompt_number": 24,
       "text": [
        "0.02666666666666667"
       ]
      }
     ],
     "prompt_number": 24
    },
    {
     "cell_type": "code",
     "collapsed": false,
     "input": [
      "4/15."
     ],
     "language": "python",
     "metadata": {},
     "outputs": [
      {
       "metadata": {},
       "output_type": "pyout",
       "prompt_number": 25,
       "text": [
        "0.26666666666666666"
       ]
      }
     ],
     "prompt_number": 25
    },
    {
     "cell_type": "code",
     "collapsed": false,
     "input": [
      "1.5E6*np.pi*1E7 *1E3 / 9.5E12 #ly"
     ],
     "language": "python",
     "metadata": {},
     "outputs": [
      {
       "metadata": {},
       "output_type": "pyout",
       "prompt_number": 26,
       "text": [
        "4960.4094530365155"
       ]
      }
     ],
     "prompt_number": 26
    },
    {
     "cell_type": "code",
     "collapsed": false,
     "input": [
      "opacity = 10. #cm2 per gram of gas\n",
      "c_cgs = 3E10 # cgs"
     ],
     "language": "python",
     "metadata": {},
     "outputs": [],
     "prompt_number": 27
    },
    {
     "cell_type": "code",
     "collapsed": false,
     "input": [
      "G*c_cgs/(4*np.pi*10)"
     ],
     "language": "python",
     "metadata": {},
     "outputs": [
      {
       "metadata": {},
       "output_type": "pyout",
       "prompt_number": 28,
       "text": [
        "15.923452056344127"
       ]
      }
     ],
     "prompt_number": 28
    },
    {
     "cell_type": "code",
     "collapsed": false,
     "input": [
      "luminosity(100, 3000)/Lsol"
     ],
     "language": "python",
     "metadata": {},
     "outputs": [
      {
       "metadata": {},
       "output_type": "pyout",
       "prompt_number": 29,
       "text": [
        "697.9764798418222"
       ]
      }
     ],
     "prompt_number": 29
    },
    {
     "cell_type": "code",
     "collapsed": false,
     "input": [
      "def dust_temperature(T,  R):\n",
      "    return T*np.sqrt(1./(2.*R))"
     ],
     "language": "python",
     "metadata": {},
     "outputs": [],
     "prompt_number": 35
    },
    {
     "cell_type": "code",
     "collapsed": false,
     "input": [
      "radii = np.linspace(1, 10, 100)\n",
      "dust_temps1 = [dust_temperature(3000, r) for r in radii] \n",
      "dust_temps2 = [dust_temperature(3500, r) for r in radii] \n",
      "dust_temps3 = [dust_temperature(4000, r) for r in radii] "
     ],
     "language": "python",
     "metadata": {},
     "outputs": [],
     "prompt_number": 38
    },
    {
     "cell_type": "code",
     "collapsed": false,
     "input": [
      "fig = plt.figure(figsize=(8,4))\n",
      "fig.subplots_adjust(top=0.97, right=0.97, bottom=0.15)\n",
      "ax = plt.subplot(111)\n",
      "ax.plot(radii, dust_temps1, color=\"r\", linewidth=2)\n",
      "ax.plot(radii, dust_temps2, color=\"orange\", linewidth=2)\n",
      "ax.plot(radii, dust_temps3, color=\"y\", linewidth=2)\n",
      "ax.fill_between([1,10], 500, 1500, color=\"grey\", alpha=0.15, hatch=\"+\")\n",
      "\n",
      "ax.legend((\"3,000K Surface\", \"3,500K\", \"4,000K\") )\n",
      "ax.text(0.2, 0.7, \"$T_d(r) = T_{eff}(R_*/2r)^{1/2}$\", transform=ax.transAxes, fontsize=18)\n",
      "ax.text(0.1, 0.1, \"Dust condensation region\", transform=ax.transAxes, fontsize=18)\n",
      "ax.set_xlabel(\"$r/R_*$\", fontsize=18)\n",
      "ax.set_xlim(1,5)\n",
      "ax.set_ylim(750)\n",
      "ax.set_ylabel(\"$T_{d}$ [K]\", fontsize=18)\n",
      "ax.minorticks_on()\n",
      "plt.savefig(\"dust_condensation.png\")\n",
      "plt.show()"
     ],
     "language": "python",
     "metadata": {},
     "outputs": [
      {
       "metadata": {},
       "output_type": "display_data",
       "png": "[encoded data removed]",
       "text": [
        "<matplotlib.figure.Figure at 0x106de3a90>"
       ]
      }
     ],
     "prompt_number": 91
    },
    {
     "cell_type": "code",
     "collapsed": false,
     "input": [
      "15*25"
     ],
     "language": "python",
     "metadata": {},
     "outputs": [
      {
       "metadata": {},
       "output_type": "pyout",
       "prompt_number": 68,
       "text": [
        "375"
       ]
      }
     ],
     "prompt_number": 68
    },
    {
     "cell_type": "code",
     "collapsed": false,
     "input": [],
     "language": "python",
     "metadata": {},
     "outputs": []
    }
   ],
   "metadata": {}
  }
 ]
}